{
  "cells": [
    {
      "cell_type": "markdown",
      "metadata": {
        "id": "h8jKlwno2MOl"
      },
      "source": [
        "# MLflow\n",
        "\n",
        "Este es el reporte para MLFlow para la práctica de despliegue, en este notebook pegaré y guardaré las información de esta práctica"
      ]
    },
    {
      "cell_type": "code",
      "execution_count": 47,
      "metadata": {
        "id": "nPHklgQX2QMX"
      },
      "outputs": [],
      "source": [
        "import pandas as pd\n",
        "import numpy as np\n",
        "import mlflow\n",
        "import mlflow.sklearn\n",
        "\n",
        "from sklearn.model_selection import train_test_split\n",
        "from sklearn.ensemble import RandomForestRegressor\n",
        "import xgboost as xgb\n",
        "\n",
        "from sklearn.pipeline import Pipeline\n",
        "from sklearn.preprocessing import StandardScaler\n",
        "from sklearn.metrics import accuracy_score, mean_squared_error, r2_score\n",
        "from sklearn.datasets import load_diabetes"
      ]
    },
    {
      "cell_type": "code",
      "execution_count": 2,
      "metadata": {
        "id": "0X0MOyEm2MOo"
      },
      "outputs": [],
      "source": [
        "diabetes = load_diabetes()"
      ]
    },
    {
      "cell_type": "markdown",
      "metadata": {
        "id": "HIOjNZgK2MOo"
      },
      "source": [
        "## Análisis de Datos\n",
        "\n",
        "Afortunadamente skearn.dataset tiene datasets muy chulos, no necesita gran analis. Más bien buscaré varios algoritmos para comparar."
      ]
    },
    {
      "cell_type": "code",
      "execution_count": 3,
      "metadata": {
        "id": "1NjtKy6B2MOp"
      },
      "outputs": [],
      "source": [
        "df = pd.DataFrame(diabetes['data'], columns=diabetes['feature_names'])"
      ]
    },
    {
      "cell_type": "code",
      "execution_count": 4,
      "metadata": {
        "id": "nIRRMsob2MOp"
      },
      "outputs": [
        {
          "data": {
            "text/html": [
              "<div>\n",
              "<style scoped>\n",
              "    .dataframe tbody tr th:only-of-type {\n",
              "        vertical-align: middle;\n",
              "    }\n",
              "\n",
              "    .dataframe tbody tr th {\n",
              "        vertical-align: top;\n",
              "    }\n",
              "\n",
              "    .dataframe thead th {\n",
              "        text-align: right;\n",
              "    }\n",
              "</style>\n",
              "<table border=\"1\" class=\"dataframe\">\n",
              "  <thead>\n",
              "    <tr style=\"text-align: right;\">\n",
              "      <th></th>\n",
              "      <th>age</th>\n",
              "      <th>sex</th>\n",
              "      <th>bmi</th>\n",
              "      <th>bp</th>\n",
              "      <th>s1</th>\n",
              "      <th>s2</th>\n",
              "      <th>s3</th>\n",
              "      <th>s4</th>\n",
              "      <th>s5</th>\n",
              "      <th>s6</th>\n",
              "      <th>target</th>\n",
              "    </tr>\n",
              "  </thead>\n",
              "  <tbody>\n",
              "    <tr>\n",
              "      <th>0</th>\n",
              "      <td>0.038076</td>\n",
              "      <td>0.050680</td>\n",
              "      <td>0.061696</td>\n",
              "      <td>0.021872</td>\n",
              "      <td>-0.044223</td>\n",
              "      <td>-0.034821</td>\n",
              "      <td>-0.043401</td>\n",
              "      <td>-0.002592</td>\n",
              "      <td>0.019907</td>\n",
              "      <td>-0.017646</td>\n",
              "      <td>151.0</td>\n",
              "    </tr>\n",
              "    <tr>\n",
              "      <th>1</th>\n",
              "      <td>-0.001882</td>\n",
              "      <td>-0.044642</td>\n",
              "      <td>-0.051474</td>\n",
              "      <td>-0.026328</td>\n",
              "      <td>-0.008449</td>\n",
              "      <td>-0.019163</td>\n",
              "      <td>0.074412</td>\n",
              "      <td>-0.039493</td>\n",
              "      <td>-0.068332</td>\n",
              "      <td>-0.092204</td>\n",
              "      <td>75.0</td>\n",
              "    </tr>\n",
              "    <tr>\n",
              "      <th>2</th>\n",
              "      <td>0.085299</td>\n",
              "      <td>0.050680</td>\n",
              "      <td>0.044451</td>\n",
              "      <td>-0.005670</td>\n",
              "      <td>-0.045599</td>\n",
              "      <td>-0.034194</td>\n",
              "      <td>-0.032356</td>\n",
              "      <td>-0.002592</td>\n",
              "      <td>0.002861</td>\n",
              "      <td>-0.025930</td>\n",
              "      <td>141.0</td>\n",
              "    </tr>\n",
              "    <tr>\n",
              "      <th>3</th>\n",
              "      <td>-0.089063</td>\n",
              "      <td>-0.044642</td>\n",
              "      <td>-0.011595</td>\n",
              "      <td>-0.036656</td>\n",
              "      <td>0.012191</td>\n",
              "      <td>0.024991</td>\n",
              "      <td>-0.036038</td>\n",
              "      <td>0.034309</td>\n",
              "      <td>0.022688</td>\n",
              "      <td>-0.009362</td>\n",
              "      <td>206.0</td>\n",
              "    </tr>\n",
              "    <tr>\n",
              "      <th>4</th>\n",
              "      <td>0.005383</td>\n",
              "      <td>-0.044642</td>\n",
              "      <td>-0.036385</td>\n",
              "      <td>0.021872</td>\n",
              "      <td>0.003935</td>\n",
              "      <td>0.015596</td>\n",
              "      <td>0.008142</td>\n",
              "      <td>-0.002592</td>\n",
              "      <td>-0.031988</td>\n",
              "      <td>-0.046641</td>\n",
              "      <td>135.0</td>\n",
              "    </tr>\n",
              "  </tbody>\n",
              "</table>\n",
              "</div>"
            ],
            "text/plain": [
              "        age       sex       bmi        bp        s1        s2        s3  \\\n",
              "0  0.038076  0.050680  0.061696  0.021872 -0.044223 -0.034821 -0.043401   \n",
              "1 -0.001882 -0.044642 -0.051474 -0.026328 -0.008449 -0.019163  0.074412   \n",
              "2  0.085299  0.050680  0.044451 -0.005670 -0.045599 -0.034194 -0.032356   \n",
              "3 -0.089063 -0.044642 -0.011595 -0.036656  0.012191  0.024991 -0.036038   \n",
              "4  0.005383 -0.044642 -0.036385  0.021872  0.003935  0.015596  0.008142   \n",
              "\n",
              "         s4        s5        s6  target  \n",
              "0 -0.002592  0.019907 -0.017646   151.0  \n",
              "1 -0.039493 -0.068332 -0.092204    75.0  \n",
              "2 -0.002592  0.002861 -0.025930   141.0  \n",
              "3  0.034309  0.022688 -0.009362   206.0  \n",
              "4 -0.002592 -0.031988 -0.046641   135.0  "
            ]
          },
          "execution_count": 4,
          "metadata": {},
          "output_type": "execute_result"
        }
      ],
      "source": [
        "df['target'] = diabetes['target']\n",
        "df.head()"
      ]
    },
    {
      "cell_type": "code",
      "execution_count": 5,
      "metadata": {
        "id": "g96xZC5r2MOp"
      },
      "outputs": [
        {
          "data": {
            "text/plain": [
              "(442, 11)"
            ]
          },
          "execution_count": 5,
          "metadata": {},
          "output_type": "execute_result"
        }
      ],
      "source": [
        "df.shape"
      ]
    },
    {
      "cell_type": "code",
      "execution_count": 6,
      "metadata": {
        "id": "0bAIzlCA2MOq"
      },
      "outputs": [
        {
          "data": {
            "text/html": [
              "<div>\n",
              "<style scoped>\n",
              "    .dataframe tbody tr th:only-of-type {\n",
              "        vertical-align: middle;\n",
              "    }\n",
              "\n",
              "    .dataframe tbody tr th {\n",
              "        vertical-align: top;\n",
              "    }\n",
              "\n",
              "    .dataframe thead th {\n",
              "        text-align: right;\n",
              "    }\n",
              "</style>\n",
              "<table border=\"1\" class=\"dataframe\">\n",
              "  <thead>\n",
              "    <tr style=\"text-align: right;\">\n",
              "      <th></th>\n",
              "      <th>age</th>\n",
              "      <th>sex</th>\n",
              "      <th>bmi</th>\n",
              "      <th>bp</th>\n",
              "      <th>s1</th>\n",
              "      <th>s2</th>\n",
              "      <th>s3</th>\n",
              "      <th>s4</th>\n",
              "      <th>s5</th>\n",
              "      <th>s6</th>\n",
              "      <th>target</th>\n",
              "    </tr>\n",
              "  </thead>\n",
              "  <tbody>\n",
              "    <tr>\n",
              "      <th>count</th>\n",
              "      <td>4.420000e+02</td>\n",
              "      <td>4.420000e+02</td>\n",
              "      <td>4.420000e+02</td>\n",
              "      <td>4.420000e+02</td>\n",
              "      <td>4.420000e+02</td>\n",
              "      <td>4.420000e+02</td>\n",
              "      <td>4.420000e+02</td>\n",
              "      <td>4.420000e+02</td>\n",
              "      <td>4.420000e+02</td>\n",
              "      <td>4.420000e+02</td>\n",
              "      <td>442.000000</td>\n",
              "    </tr>\n",
              "    <tr>\n",
              "      <th>mean</th>\n",
              "      <td>-2.511817e-19</td>\n",
              "      <td>1.230790e-17</td>\n",
              "      <td>-2.245564e-16</td>\n",
              "      <td>-4.797570e-17</td>\n",
              "      <td>-1.381499e-17</td>\n",
              "      <td>3.918434e-17</td>\n",
              "      <td>-5.777179e-18</td>\n",
              "      <td>-9.042540e-18</td>\n",
              "      <td>9.293722e-17</td>\n",
              "      <td>1.130318e-17</td>\n",
              "      <td>152.133484</td>\n",
              "    </tr>\n",
              "    <tr>\n",
              "      <th>std</th>\n",
              "      <td>4.761905e-02</td>\n",
              "      <td>4.761905e-02</td>\n",
              "      <td>4.761905e-02</td>\n",
              "      <td>4.761905e-02</td>\n",
              "      <td>4.761905e-02</td>\n",
              "      <td>4.761905e-02</td>\n",
              "      <td>4.761905e-02</td>\n",
              "      <td>4.761905e-02</td>\n",
              "      <td>4.761905e-02</td>\n",
              "      <td>4.761905e-02</td>\n",
              "      <td>77.093005</td>\n",
              "    </tr>\n",
              "    <tr>\n",
              "      <th>min</th>\n",
              "      <td>-1.072256e-01</td>\n",
              "      <td>-4.464164e-02</td>\n",
              "      <td>-9.027530e-02</td>\n",
              "      <td>-1.123988e-01</td>\n",
              "      <td>-1.267807e-01</td>\n",
              "      <td>-1.156131e-01</td>\n",
              "      <td>-1.023071e-01</td>\n",
              "      <td>-7.639450e-02</td>\n",
              "      <td>-1.260971e-01</td>\n",
              "      <td>-1.377672e-01</td>\n",
              "      <td>25.000000</td>\n",
              "    </tr>\n",
              "    <tr>\n",
              "      <th>25%</th>\n",
              "      <td>-3.729927e-02</td>\n",
              "      <td>-4.464164e-02</td>\n",
              "      <td>-3.422907e-02</td>\n",
              "      <td>-3.665608e-02</td>\n",
              "      <td>-3.424784e-02</td>\n",
              "      <td>-3.035840e-02</td>\n",
              "      <td>-3.511716e-02</td>\n",
              "      <td>-3.949338e-02</td>\n",
              "      <td>-3.324559e-02</td>\n",
              "      <td>-3.317903e-02</td>\n",
              "      <td>87.000000</td>\n",
              "    </tr>\n",
              "    <tr>\n",
              "      <th>50%</th>\n",
              "      <td>5.383060e-03</td>\n",
              "      <td>-4.464164e-02</td>\n",
              "      <td>-7.283766e-03</td>\n",
              "      <td>-5.670422e-03</td>\n",
              "      <td>-4.320866e-03</td>\n",
              "      <td>-3.819065e-03</td>\n",
              "      <td>-6.584468e-03</td>\n",
              "      <td>-2.592262e-03</td>\n",
              "      <td>-1.947171e-03</td>\n",
              "      <td>-1.077698e-03</td>\n",
              "      <td>140.500000</td>\n",
              "    </tr>\n",
              "    <tr>\n",
              "      <th>75%</th>\n",
              "      <td>3.807591e-02</td>\n",
              "      <td>5.068012e-02</td>\n",
              "      <td>3.124802e-02</td>\n",
              "      <td>3.564379e-02</td>\n",
              "      <td>2.835801e-02</td>\n",
              "      <td>2.984439e-02</td>\n",
              "      <td>2.931150e-02</td>\n",
              "      <td>3.430886e-02</td>\n",
              "      <td>3.243232e-02</td>\n",
              "      <td>2.791705e-02</td>\n",
              "      <td>211.500000</td>\n",
              "    </tr>\n",
              "    <tr>\n",
              "      <th>max</th>\n",
              "      <td>1.107267e-01</td>\n",
              "      <td>5.068012e-02</td>\n",
              "      <td>1.705552e-01</td>\n",
              "      <td>1.320436e-01</td>\n",
              "      <td>1.539137e-01</td>\n",
              "      <td>1.987880e-01</td>\n",
              "      <td>1.811791e-01</td>\n",
              "      <td>1.852344e-01</td>\n",
              "      <td>1.335973e-01</td>\n",
              "      <td>1.356118e-01</td>\n",
              "      <td>346.000000</td>\n",
              "    </tr>\n",
              "  </tbody>\n",
              "</table>\n",
              "</div>"
            ],
            "text/plain": [
              "                age           sex           bmi            bp            s1  \\\n",
              "count  4.420000e+02  4.420000e+02  4.420000e+02  4.420000e+02  4.420000e+02   \n",
              "mean  -2.511817e-19  1.230790e-17 -2.245564e-16 -4.797570e-17 -1.381499e-17   \n",
              "std    4.761905e-02  4.761905e-02  4.761905e-02  4.761905e-02  4.761905e-02   \n",
              "min   -1.072256e-01 -4.464164e-02 -9.027530e-02 -1.123988e-01 -1.267807e-01   \n",
              "25%   -3.729927e-02 -4.464164e-02 -3.422907e-02 -3.665608e-02 -3.424784e-02   \n",
              "50%    5.383060e-03 -4.464164e-02 -7.283766e-03 -5.670422e-03 -4.320866e-03   \n",
              "75%    3.807591e-02  5.068012e-02  3.124802e-02  3.564379e-02  2.835801e-02   \n",
              "max    1.107267e-01  5.068012e-02  1.705552e-01  1.320436e-01  1.539137e-01   \n",
              "\n",
              "                 s2            s3            s4            s5            s6  \\\n",
              "count  4.420000e+02  4.420000e+02  4.420000e+02  4.420000e+02  4.420000e+02   \n",
              "mean   3.918434e-17 -5.777179e-18 -9.042540e-18  9.293722e-17  1.130318e-17   \n",
              "std    4.761905e-02  4.761905e-02  4.761905e-02  4.761905e-02  4.761905e-02   \n",
              "min   -1.156131e-01 -1.023071e-01 -7.639450e-02 -1.260971e-01 -1.377672e-01   \n",
              "25%   -3.035840e-02 -3.511716e-02 -3.949338e-02 -3.324559e-02 -3.317903e-02   \n",
              "50%   -3.819065e-03 -6.584468e-03 -2.592262e-03 -1.947171e-03 -1.077698e-03   \n",
              "75%    2.984439e-02  2.931150e-02  3.430886e-02  3.243232e-02  2.791705e-02   \n",
              "max    1.987880e-01  1.811791e-01  1.852344e-01  1.335973e-01  1.356118e-01   \n",
              "\n",
              "           target  \n",
              "count  442.000000  \n",
              "mean   152.133484  \n",
              "std     77.093005  \n",
              "min     25.000000  \n",
              "25%     87.000000  \n",
              "50%    140.500000  \n",
              "75%    211.500000  \n",
              "max    346.000000  "
            ]
          },
          "execution_count": 6,
          "metadata": {},
          "output_type": "execute_result"
        }
      ],
      "source": [
        "df.describe()"
      ]
    },
    {
      "cell_type": "code",
      "execution_count": 7,
      "metadata": {
        "id": "1TA18pA_2MOq"
      },
      "outputs": [
        {
          "data": {
            "text/plain": [
              "Index(['age', 'sex', 'bmi', 'bp', 's1', 's2', 's3', 's4', 's5', 's6',\n",
              "       'target'],\n",
              "      dtype='object')"
            ]
          },
          "execution_count": 7,
          "metadata": {},
          "output_type": "execute_result"
        }
      ],
      "source": [
        "df.columns"
      ]
    },
    {
      "cell_type": "markdown",
      "metadata": {},
      "source": [
        "Siguendo el ejemplo guardo los ficheros entre test y train"
      ]
    },
    {
      "cell_type": "code",
      "execution_count": 8,
      "metadata": {
        "id": "rmxwFpw_2MOr"
      },
      "outputs": [],
      "source": [
        "X_train, X_test = train_test_split(df, test_size=0.25)\n",
        "\n",
        "y_test = X_test['target']\n",
        "X_test[['target']].to_csv('test-target.csv', index=False)\n",
        "del X_test['target']\n",
        "X_test.to_csv('test.csv', index=False)\n",
        "\n",
        "y_train = X_train['target']\n",
        "X_train[['target']].to_csv('train-target.csv', index=False)\n",
        "del X_train['target']\n",
        "X_train.to_csv('train.csv', index=False)"
      ]
    },
    {
      "cell_type": "code",
      "execution_count": 9,
      "metadata": {},
      "outputs": [
        {
          "data": {
            "text/html": [
              "<div>\n",
              "<style scoped>\n",
              "    .dataframe tbody tr th:only-of-type {\n",
              "        vertical-align: middle;\n",
              "    }\n",
              "\n",
              "    .dataframe tbody tr th {\n",
              "        vertical-align: top;\n",
              "    }\n",
              "\n",
              "    .dataframe thead th {\n",
              "        text-align: right;\n",
              "    }\n",
              "</style>\n",
              "<table border=\"1\" class=\"dataframe\">\n",
              "  <thead>\n",
              "    <tr style=\"text-align: right;\">\n",
              "      <th></th>\n",
              "      <th>age</th>\n",
              "      <th>sex</th>\n",
              "      <th>bmi</th>\n",
              "      <th>bp</th>\n",
              "      <th>s1</th>\n",
              "      <th>s2</th>\n",
              "      <th>s3</th>\n",
              "      <th>s4</th>\n",
              "      <th>s5</th>\n",
              "      <th>s6</th>\n",
              "    </tr>\n",
              "  </thead>\n",
              "  <tbody>\n",
              "    <tr>\n",
              "      <th>305</th>\n",
              "      <td>-0.009147</td>\n",
              "      <td>0.050680</td>\n",
              "      <td>-0.039618</td>\n",
              "      <td>-0.040099</td>\n",
              "      <td>-0.008449</td>\n",
              "      <td>0.016222</td>\n",
              "      <td>-0.065491</td>\n",
              "      <td>0.071210</td>\n",
              "      <td>0.017765</td>\n",
              "      <td>-0.067351</td>\n",
              "    </tr>\n",
              "    <tr>\n",
              "      <th>80</th>\n",
              "      <td>0.070769</td>\n",
              "      <td>-0.044642</td>\n",
              "      <td>0.012117</td>\n",
              "      <td>0.042529</td>\n",
              "      <td>0.071357</td>\n",
              "      <td>0.053487</td>\n",
              "      <td>0.052322</td>\n",
              "      <td>-0.002592</td>\n",
              "      <td>0.025395</td>\n",
              "      <td>-0.005220</td>\n",
              "    </tr>\n",
              "    <tr>\n",
              "      <th>357</th>\n",
              "      <td>-0.060003</td>\n",
              "      <td>0.050680</td>\n",
              "      <td>0.049840</td>\n",
              "      <td>0.018430</td>\n",
              "      <td>-0.016704</td>\n",
              "      <td>-0.030124</td>\n",
              "      <td>-0.017629</td>\n",
              "      <td>-0.002592</td>\n",
              "      <td>0.049770</td>\n",
              "      <td>-0.059067</td>\n",
              "    </tr>\n",
              "    <tr>\n",
              "      <th>355</th>\n",
              "      <td>-0.074533</td>\n",
              "      <td>0.050680</td>\n",
              "      <td>-0.009439</td>\n",
              "      <td>0.014987</td>\n",
              "      <td>-0.037344</td>\n",
              "      <td>-0.021669</td>\n",
              "      <td>-0.013948</td>\n",
              "      <td>-0.002592</td>\n",
              "      <td>-0.033246</td>\n",
              "      <td>0.011349</td>\n",
              "    </tr>\n",
              "    <tr>\n",
              "      <th>259</th>\n",
              "      <td>0.012648</td>\n",
              "      <td>-0.044642</td>\n",
              "      <td>-0.036385</td>\n",
              "      <td>0.042529</td>\n",
              "      <td>-0.013953</td>\n",
              "      <td>0.012934</td>\n",
              "      <td>-0.026833</td>\n",
              "      <td>0.005157</td>\n",
              "      <td>-0.043984</td>\n",
              "      <td>0.007207</td>\n",
              "    </tr>\n",
              "    <tr>\n",
              "      <th>...</th>\n",
              "      <td>...</td>\n",
              "      <td>...</td>\n",
              "      <td>...</td>\n",
              "      <td>...</td>\n",
              "      <td>...</td>\n",
              "      <td>...</td>\n",
              "      <td>...</td>\n",
              "      <td>...</td>\n",
              "      <td>...</td>\n",
              "      <td>...</td>\n",
              "    </tr>\n",
              "    <tr>\n",
              "      <th>384</th>\n",
              "      <td>0.034443</td>\n",
              "      <td>0.050680</td>\n",
              "      <td>-0.029918</td>\n",
              "      <td>0.004658</td>\n",
              "      <td>0.093372</td>\n",
              "      <td>0.086994</td>\n",
              "      <td>0.033914</td>\n",
              "      <td>-0.002592</td>\n",
              "      <td>0.024055</td>\n",
              "      <td>-0.038357</td>\n",
              "    </tr>\n",
              "    <tr>\n",
              "      <th>126</th>\n",
              "      <td>-0.089063</td>\n",
              "      <td>-0.044642</td>\n",
              "      <td>-0.061174</td>\n",
              "      <td>-0.026328</td>\n",
              "      <td>-0.055231</td>\n",
              "      <td>-0.054549</td>\n",
              "      <td>0.041277</td>\n",
              "      <td>-0.076395</td>\n",
              "      <td>-0.093937</td>\n",
              "      <td>-0.054925</td>\n",
              "    </tr>\n",
              "    <tr>\n",
              "      <th>20</th>\n",
              "      <td>-0.049105</td>\n",
              "      <td>-0.044642</td>\n",
              "      <td>-0.056863</td>\n",
              "      <td>-0.043542</td>\n",
              "      <td>-0.045599</td>\n",
              "      <td>-0.043276</td>\n",
              "      <td>0.000779</td>\n",
              "      <td>-0.039493</td>\n",
              "      <td>-0.011897</td>\n",
              "      <td>0.015491</td>\n",
              "    </tr>\n",
              "    <tr>\n",
              "      <th>413</th>\n",
              "      <td>-0.052738</td>\n",
              "      <td>-0.044642</td>\n",
              "      <td>-0.000817</td>\n",
              "      <td>-0.026328</td>\n",
              "      <td>0.010815</td>\n",
              "      <td>0.007141</td>\n",
              "      <td>0.048640</td>\n",
              "      <td>-0.039493</td>\n",
              "      <td>-0.035816</td>\n",
              "      <td>0.019633</td>\n",
              "    </tr>\n",
              "    <tr>\n",
              "      <th>64</th>\n",
              "      <td>0.067136</td>\n",
              "      <td>0.050680</td>\n",
              "      <td>-0.025607</td>\n",
              "      <td>-0.040099</td>\n",
              "      <td>-0.063487</td>\n",
              "      <td>-0.059873</td>\n",
              "      <td>-0.002903</td>\n",
              "      <td>-0.039493</td>\n",
              "      <td>-0.019198</td>\n",
              "      <td>0.011349</td>\n",
              "    </tr>\n",
              "  </tbody>\n",
              "</table>\n",
              "<p>331 rows × 10 columns</p>\n",
              "</div>"
            ],
            "text/plain": [
              "          age       sex       bmi        bp        s1        s2        s3  \\\n",
              "305 -0.009147  0.050680 -0.039618 -0.040099 -0.008449  0.016222 -0.065491   \n",
              "80   0.070769 -0.044642  0.012117  0.042529  0.071357  0.053487  0.052322   \n",
              "357 -0.060003  0.050680  0.049840  0.018430 -0.016704 -0.030124 -0.017629   \n",
              "355 -0.074533  0.050680 -0.009439  0.014987 -0.037344 -0.021669 -0.013948   \n",
              "259  0.012648 -0.044642 -0.036385  0.042529 -0.013953  0.012934 -0.026833   \n",
              "..        ...       ...       ...       ...       ...       ...       ...   \n",
              "384  0.034443  0.050680 -0.029918  0.004658  0.093372  0.086994  0.033914   \n",
              "126 -0.089063 -0.044642 -0.061174 -0.026328 -0.055231 -0.054549  0.041277   \n",
              "20  -0.049105 -0.044642 -0.056863 -0.043542 -0.045599 -0.043276  0.000779   \n",
              "413 -0.052738 -0.044642 -0.000817 -0.026328  0.010815  0.007141  0.048640   \n",
              "64   0.067136  0.050680 -0.025607 -0.040099 -0.063487 -0.059873 -0.002903   \n",
              "\n",
              "           s4        s5        s6  \n",
              "305  0.071210  0.017765 -0.067351  \n",
              "80  -0.002592  0.025395 -0.005220  \n",
              "357 -0.002592  0.049770 -0.059067  \n",
              "355 -0.002592 -0.033246  0.011349  \n",
              "259  0.005157 -0.043984  0.007207  \n",
              "..        ...       ...       ...  \n",
              "384 -0.002592  0.024055 -0.038357  \n",
              "126 -0.076395 -0.093937 -0.054925  \n",
              "20  -0.039493 -0.011897  0.015491  \n",
              "413 -0.039493 -0.035816  0.019633  \n",
              "64  -0.039493 -0.019198  0.011349  \n",
              "\n",
              "[331 rows x 10 columns]"
            ]
          },
          "execution_count": 9,
          "metadata": {},
          "output_type": "execute_result"
        }
      ],
      "source": [
        "X_train"
      ]
    },
    {
      "cell_type": "markdown",
      "metadata": {
        "id": "BjCYEf7J2MOq"
      },
      "source": [
        "## Entrenamiento 1"
      ]
    },
    {
      "cell_type": "code",
      "execution_count": 45,
      "metadata": {},
      "outputs": [],
      "source": [
        "model_name = \"diabetes-predictor-IA3\""
      ]
    },
    {
      "cell_type": "code",
      "execution_count": 46,
      "metadata": {},
      "outputs": [],
      "source": [
        "def rfrRun(n_estimator,min_samples_leaf,max_depth,max_feature, saveModel = False):\n",
        "    \"\"\"\n",
        "    Función que genera un modelo RandomForest, entrena y registra en mlFlow el resultado y el modelo\n",
        "    \"\"\"\n",
        "\n",
        "    # Modelo:\n",
        "    clf = RandomForestRegressor(n_estimators=n_estimator,\n",
        "                                min_samples_leaf=min_samples_leaf,\n",
        "                                max_depth=max_depth,\n",
        "                                max_features=max_feature,\n",
        "                                random_state=1234)\n",
        "    preprocessor = Pipeline(steps=[('scaler', StandardScaler())])\n",
        "    model = Pipeline(steps=[('preprocessor', preprocessor),\n",
        "                            ('RandomForestRegressor', clf)])\n",
        "    \n",
        "    # Emtrenamiento\n",
        "    model.fit(X_train, y_train)\n",
        "\n",
        "    # Evaluación\n",
        "    y_train_pred = model.predict(X_train)\n",
        "    y_test_pred = model.predict(X_test)\n",
        "\n",
        "    # ML Flow FTW\n",
        "    mlflow.set_experiment(\"Diabetes_IA3\")\n",
        "    with mlflow.start_run(run_name=\"Diabetes-RFR-IA3\"):\n",
        "        mlflow.log_params({\n",
        "                \"n_estimators\": n_estimator,\n",
        "                \"min_samples_leaf\": min_samples_leaf,\n",
        "                \"max_depth\": max_depth,\n",
        "                \"max_features\": max_feature\n",
        "            })\n",
        "        mlflow.log_metrics({ \n",
        "                # Error cuadratico medio\n",
        "                'MSE_train': mean_squared_error(y_train, y_train_pred),\n",
        "                'MSE_test': mean_squared_error(y_test, y_test_pred),\n",
        "                \n",
        "                # R2:\n",
        "                'R2_train': r2_score(y_train, y_train_pred),\n",
        "                'R2_test': r2_score(y_test, y_test_pred),\n",
        "                \n",
        "                # Raíz del error cuadrático medio\n",
        "                'RMSE_train': np.sqrt(mean_squared_error(y_train, y_train_pred)),\n",
        "                'RMSE_test': np.sqrt(mean_squared_error(y_test, y_test_pred)),\n",
        "            })\n",
        "        if saveModel:\n",
        "            mlflow.sklearn.log_model(model, \"RFRegressor\", registered_model_name=model_name)\n",
        "        else:\n",
        "            mlflow.sklearn.log_model(model, \"RFRegressor\")\n"
      ]
    },
    {
      "cell_type": "code",
      "execution_count": 42,
      "metadata": {},
      "outputs": [
        {
          "name": "stderr",
          "output_type": "stream",
          "text": [
            "2025/06/13 02:01:29 WARNING mlflow.models.model: Model logged without a signature and input example. Please set `input_example` parameter when logging the model to auto infer the model signature.\n",
            "2025/06/13 02:01:31 WARNING mlflow.models.model: Model logged without a signature and input example. Please set `input_example` parameter when logging the model to auto infer the model signature.\n",
            "2025/06/13 02:01:33 WARNING mlflow.models.model: Model logged without a signature and input example. Please set `input_example` parameter when logging the model to auto infer the model signature.\n",
            "2025/06/13 02:01:35 WARNING mlflow.models.model: Model logged without a signature and input example. Please set `input_example` parameter when logging the model to auto infer the model signature.\n",
            "2025/06/13 02:01:37 WARNING mlflow.models.model: Model logged without a signature and input example. Please set `input_example` parameter when logging the model to auto infer the model signature.\n",
            "2025/06/13 02:01:39 WARNING mlflow.models.model: Model logged without a signature and input example. Please set `input_example` parameter when logging the model to auto infer the model signature.\n",
            "2025/06/13 02:01:41 WARNING mlflow.models.model: Model logged without a signature and input example. Please set `input_example` parameter when logging the model to auto infer the model signature.\n",
            "2025/06/13 02:01:43 WARNING mlflow.models.model: Model logged without a signature and input example. Please set `input_example` parameter when logging the model to auto infer the model signature.\n",
            "2025/06/13 02:01:45 WARNING mlflow.models.model: Model logged without a signature and input example. Please set `input_example` parameter when logging the model to auto infer the model signature.\n",
            "2025/06/13 02:01:47 WARNING mlflow.models.model: Model logged without a signature and input example. Please set `input_example` parameter when logging the model to auto infer the model signature.\n",
            "2025/06/13 02:01:49 WARNING mlflow.models.model: Model logged without a signature and input example. Please set `input_example` parameter when logging the model to auto infer the model signature.\n",
            "2025/06/13 02:01:51 WARNING mlflow.models.model: Model logged without a signature and input example. Please set `input_example` parameter when logging the model to auto infer the model signature.\n",
            "2025/06/13 02:01:53 WARNING mlflow.models.model: Model logged without a signature and input example. Please set `input_example` parameter when logging the model to auto infer the model signature.\n",
            "2025/06/13 02:01:55 WARNING mlflow.models.model: Model logged without a signature and input example. Please set `input_example` parameter when logging the model to auto infer the model signature.\n",
            "2025/06/13 02:01:57 WARNING mlflow.models.model: Model logged without a signature and input example. Please set `input_example` parameter when logging the model to auto infer the model signature.\n",
            "2025/06/13 02:02:00 WARNING mlflow.models.model: Model logged without a signature and input example. Please set `input_example` parameter when logging the model to auto infer the model signature.\n",
            "2025/06/13 02:02:02 WARNING mlflow.models.model: Model logged without a signature and input example. Please set `input_example` parameter when logging the model to auto infer the model signature.\n",
            "2025/06/13 02:02:04 WARNING mlflow.models.model: Model logged without a signature and input example. Please set `input_example` parameter when logging the model to auto infer the model signature.\n",
            "2025/06/13 02:02:07 WARNING mlflow.models.model: Model logged without a signature and input example. Please set `input_example` parameter when logging the model to auto infer the model signature.\n",
            "2025/06/13 02:02:09 WARNING mlflow.models.model: Model logged without a signature and input example. Please set `input_example` parameter when logging the model to auto infer the model signature.\n",
            "2025/06/13 02:02:11 WARNING mlflow.models.model: Model logged without a signature and input example. Please set `input_example` parameter when logging the model to auto infer the model signature.\n",
            "2025/06/13 02:02:14 WARNING mlflow.models.model: Model logged without a signature and input example. Please set `input_example` parameter when logging the model to auto infer the model signature.\n",
            "2025/06/13 02:02:17 WARNING mlflow.models.model: Model logged without a signature and input example. Please set `input_example` parameter when logging the model to auto infer the model signature.\n",
            "2025/06/13 02:02:19 WARNING mlflow.models.model: Model logged without a signature and input example. Please set `input_example` parameter when logging the model to auto infer the model signature.\n"
          ]
        }
      ],
      "source": [
        "n_estimators = [100, 500, 1000]\n",
        "max_depths = [5, 10]\n",
        "min_samples_leafs = [2, 4]\n",
        "max_features = [\"sqrt\",\"log2\"]\n",
        "\n",
        "for n_estimator in n_estimators:\n",
        "    for max_depth in max_depths:\n",
        "        for min_samples_leaf in min_samples_leafs:\n",
        "            for max_feature in max_features:\n",
        "                rfrRun(n_estimator,min_samples_leaf,max_depth,max_feature)"
      ]
    },
    {
      "cell_type": "markdown",
      "metadata": {},
      "source": [
        "### Analisis de ejecución\n",
        "\n",
        "Tras la ejecución de los modelos con distintas parámetricas para RandomForest revisamos su registro:\n",
        "\n",
        "![image](./images//RandomForestList.png)\n",
        "\n",
        "Se observa que la mejor paramétrica es:\n",
        "\n",
        "![image](./images/descarga.png)\n",
        "![image](./images/RFparameters.png)\n",
        "\n",
        "Pero como se puede ver no es muy bueno, igualmente se guarda el modelo"
      ]
    },
    {
      "cell_type": "markdown",
      "metadata": {
        "id": "TFjicHxM2MOt"
      },
      "source": [
        "### Registro y Despliegue de Modelo con MLflow\n"
      ]
    },
    {
      "cell_type": "code",
      "execution_count": 43,
      "metadata": {},
      "outputs": [
        {
          "name": "stderr",
          "output_type": "stream",
          "text": [
            "2025/06/13 02:02:21 WARNING mlflow.models.model: Model logged without a signature and input example. Please set `input_example` parameter when logging the model to auto infer the model signature.\n",
            "Registered model 'diabetes-predictor-IA3' already exists. Creating a new version of this model...\n",
            "Created version '3' of model 'diabetes-predictor-IA3'.\n"
          ]
        }
      ],
      "source": [
        "rfrRun(500,2,10,\"sqrt\", saveModel = True)"
      ]
    },
    {
      "cell_type": "markdown",
      "metadata": {},
      "source": [
        "### Modelo Guardado\n",
        "\n",
        "![image](./images/guardadoRFR.png)\n",
        "\n",
        "Lo ejecuté 2 veces sin querer, y he pasado a producción el segundo\n",
        "\n",
        "Ahora probamos que se guardara bien."
      ]
    },
    {
      "cell_type": "code",
      "execution_count": 44,
      "metadata": {},
      "outputs": [
        {
          "data": {
            "text/plain": [
              "array([ 90.89700301, 135.2563596 , 153.92975958, 171.7622302 ,\n",
              "       174.04363389, 147.05917665, 190.38576012, 134.29991195,\n",
              "       143.91376146, 141.47207834, 215.76273278, 153.36919711,\n",
              "       104.63555652, 157.98331984, 103.06398792, 108.85519862,\n",
              "       132.903362  , 141.95204645, 196.45016036,  78.40645614,\n",
              "       115.98947039, 102.42166316, 124.6820402 , 189.53818297,\n",
              "       101.86294364, 102.22770854, 170.582668  , 177.75020223,\n",
              "       217.16053058, 110.53828316, 150.23131655, 135.08113727,\n",
              "       111.10689979, 165.23524471, 239.19449698, 174.22304522,\n",
              "       201.63559101, 103.79219522, 135.62349834, 171.50664987,\n",
              "       219.86185   , 127.35868915, 208.28956057,  87.3041782 ,\n",
              "       161.44000896,  81.33646893, 167.30426611, 219.00088304,\n",
              "       114.67709176, 122.17996007,  99.15953598, 135.69793304,\n",
              "       219.161583  , 156.55389534, 223.99959583, 228.36758224,\n",
              "       212.32709439, 130.03406214, 238.11135159,  92.03246842,\n",
              "       102.71746884, 250.48766899, 118.80143959, 171.88391223,\n",
              "       145.03021415, 150.24395184, 189.04051259, 243.43992857,\n",
              "       107.72515729, 141.20946539, 107.3102847 , 172.48995691,\n",
              "       243.92586794, 102.81404313,  87.25248081, 181.24575095,\n",
              "       164.08611277, 174.44228544, 178.40057748, 102.77551155,\n",
              "       156.47114146, 243.00113595, 220.99270637,  88.52607627,\n",
              "       100.66021072, 158.54437828, 274.75247518, 208.03748979,\n",
              "       191.42371148, 175.51786723, 147.12318689, 191.66072319,\n",
              "        87.58641785, 190.85916774, 166.28626204, 127.64069346,\n",
              "       162.09921821, 192.0511843 , 109.7738298 , 175.44408801,\n",
              "        69.47998461, 178.59171319, 125.17587098, 149.49700011,\n",
              "       107.990766  , 115.1306109 ,  92.16809823, 188.30505798,\n",
              "        79.42296467,  92.66879068,  89.96492982])"
            ]
          },
          "execution_count": 44,
          "metadata": {},
          "output_type": "execute_result"
        }
      ],
      "source": [
        "# Cargar el modelo de producción\n",
        "model = mlflow.pyfunc.load_model(f\"models:/diabetes-predictor-IA3/Production\")\n",
        "\n",
        "model.predict(X_test)\n"
      ]
    },
    {
      "cell_type": "markdown",
      "metadata": {},
      "source": [
        "## Entrenamiento 2"
      ]
    },
    {
      "cell_type": "code",
      "execution_count": 48,
      "metadata": {},
      "outputs": [],
      "source": [
        "def xgbRun(learning_rate, max_depth, n_estimators, subsample, colsample_bytree, saveModel=False):\n",
        "    \"\"\"\n",
        "    Función que genera un modelo XGBoost, entrena y registra en mlFlow el resultado y el modelo\n",
        "    \"\"\"\n",
        "    # Modelo\n",
        "    xgb_model = xgb.XGBRegressor(\n",
        "        learning_rate=learning_rate,\n",
        "        max_depth=max_depth,\n",
        "        n_estimators=n_estimators,\n",
        "        subsample=subsample,\n",
        "        colsample_bytree=colsample_bytree,\n",
        "        random_state=1234\n",
        "    )\n",
        "    \n",
        "    preprocessor = Pipeline(steps=[('scaler', StandardScaler())])\n",
        "    model = Pipeline(steps=[\n",
        "        ('preprocessor', preprocessor),\n",
        "        ('XGBRegressor', xgb_model)\n",
        "    ])\n",
        "    \n",
        "    # Entrenamiento\n",
        "    model.fit(X_train, y_train)\n",
        "\n",
        "    # Evaluación\n",
        "    y_train_pred = model.predict(X_train)\n",
        "    y_test_pred = model.predict(X_test)\n",
        "\n",
        "    # ML Flow FTW\n",
        "    mlflow.set_experiment(\"Diabetes_IA3\")\n",
        "    with mlflow.start_run(run_name=\"Diabetes-XGB-IA3\"):\n",
        "        mlflow.log_params({\n",
        "            \"learning_rate\": learning_rate,\n",
        "            \"max_depth\": max_depth,\n",
        "            \"n_estimators\": n_estimators,\n",
        "            \"subsample\": subsample,\n",
        "            \"colsample_bytree\": colsample_bytree\n",
        "        })\n",
        "        \n",
        "        mlflow.log_metrics({ \n",
        "            # Error cuadrático medio\n",
        "            'MSE_train': mean_squared_error(y_train, y_train_pred),\n",
        "            'MSE_test': mean_squared_error(y_test, y_test_pred),\n",
        "            \n",
        "            # R²\n",
        "            'R2_train': r2_score(y_train, y_train_pred),\n",
        "            'R2_test': r2_score(y_test, y_test_pred),\n",
        "            \n",
        "            # Raíz del error cuadrático medio\n",
        "            'RMSE_train': np.sqrt(mean_squared_error(y_train, y_train_pred)),\n",
        "            'RMSE_test': np.sqrt(mean_squared_error(y_test, y_test_pred)),\n",
        "        })\n",
        "        \n",
        "        if saveModel:\n",
        "            mlflow.sklearn.log_model(model, \"XGBRegressor\", registered_model_name=\"diabetes-predictor-xgb-IA3\")\n",
        "        else:\n",
        "            mlflow.sklearn.log_model(model, \"XGBRegressor\")\n",
        "\n"
      ]
    },
    {
      "cell_type": "code",
      "execution_count": 49,
      "metadata": {},
      "outputs": [
        {
          "name": "stdout",
          "output_type": "stream",
          "text": [
            "\n",
            "Probando con:\n",
            "learning_rate: 0.01\n",
            "max_depth: 3\n",
            "n_estimators: 100\n",
            "subsample: 0.8\n",
            "colsample_bytree: 0.8\n"
          ]
        },
        {
          "name": "stderr",
          "output_type": "stream",
          "text": [
            "2025/06/13 02:05:35 WARNING mlflow.models.model: Model logged without a signature and input example. Please set `input_example` parameter when logging the model to auto infer the model signature.\n"
          ]
        },
        {
          "name": "stdout",
          "output_type": "stream",
          "text": [
            "\n",
            "Probando con:\n",
            "learning_rate: 0.01\n",
            "max_depth: 3\n",
            "n_estimators: 100\n",
            "subsample: 0.8\n",
            "colsample_bytree: 1.0\n"
          ]
        },
        {
          "name": "stderr",
          "output_type": "stream",
          "text": [
            "2025/06/13 02:05:36 WARNING mlflow.models.model: Model logged without a signature and input example. Please set `input_example` parameter when logging the model to auto infer the model signature.\n"
          ]
        },
        {
          "name": "stdout",
          "output_type": "stream",
          "text": [
            "\n",
            "Probando con:\n",
            "learning_rate: 0.01\n",
            "max_depth: 3\n",
            "n_estimators: 100\n",
            "subsample: 1.0\n",
            "colsample_bytree: 0.8\n"
          ]
        },
        {
          "name": "stderr",
          "output_type": "stream",
          "text": [
            "2025/06/13 02:05:38 WARNING mlflow.models.model: Model logged without a signature and input example. Please set `input_example` parameter when logging the model to auto infer the model signature.\n"
          ]
        },
        {
          "name": "stdout",
          "output_type": "stream",
          "text": [
            "\n",
            "Probando con:\n",
            "learning_rate: 0.01\n",
            "max_depth: 3\n",
            "n_estimators: 100\n",
            "subsample: 1.0\n",
            "colsample_bytree: 1.0\n"
          ]
        },
        {
          "name": "stderr",
          "output_type": "stream",
          "text": [
            "2025/06/13 02:05:40 WARNING mlflow.models.model: Model logged without a signature and input example. Please set `input_example` parameter when logging the model to auto infer the model signature.\n"
          ]
        },
        {
          "name": "stdout",
          "output_type": "stream",
          "text": [
            "\n",
            "Probando con:\n",
            "learning_rate: 0.01\n",
            "max_depth: 3\n",
            "n_estimators: 500\n",
            "subsample: 0.8\n",
            "colsample_bytree: 0.8\n"
          ]
        },
        {
          "name": "stderr",
          "output_type": "stream",
          "text": [
            "2025/06/13 02:05:42 WARNING mlflow.models.model: Model logged without a signature and input example. Please set `input_example` parameter when logging the model to auto infer the model signature.\n"
          ]
        },
        {
          "name": "stdout",
          "output_type": "stream",
          "text": [
            "\n",
            "Probando con:\n",
            "learning_rate: 0.01\n",
            "max_depth: 3\n",
            "n_estimators: 500\n",
            "subsample: 0.8\n",
            "colsample_bytree: 1.0\n"
          ]
        },
        {
          "name": "stderr",
          "output_type": "stream",
          "text": [
            "2025/06/13 02:05:44 WARNING mlflow.models.model: Model logged without a signature and input example. Please set `input_example` parameter when logging the model to auto infer the model signature.\n"
          ]
        },
        {
          "name": "stdout",
          "output_type": "stream",
          "text": [
            "\n",
            "Probando con:\n",
            "learning_rate: 0.01\n",
            "max_depth: 3\n",
            "n_estimators: 500\n",
            "subsample: 1.0\n",
            "colsample_bytree: 0.8\n"
          ]
        },
        {
          "name": "stderr",
          "output_type": "stream",
          "text": [
            "2025/06/13 02:05:46 WARNING mlflow.models.model: Model logged without a signature and input example. Please set `input_example` parameter when logging the model to auto infer the model signature.\n"
          ]
        },
        {
          "name": "stdout",
          "output_type": "stream",
          "text": [
            "\n",
            "Probando con:\n",
            "learning_rate: 0.01\n",
            "max_depth: 3\n",
            "n_estimators: 500\n",
            "subsample: 1.0\n",
            "colsample_bytree: 1.0\n"
          ]
        },
        {
          "name": "stderr",
          "output_type": "stream",
          "text": [
            "2025/06/13 02:05:48 WARNING mlflow.models.model: Model logged without a signature and input example. Please set `input_example` parameter when logging the model to auto infer the model signature.\n"
          ]
        },
        {
          "name": "stdout",
          "output_type": "stream",
          "text": [
            "\n",
            "Probando con:\n",
            "learning_rate: 0.01\n",
            "max_depth: 5\n",
            "n_estimators: 100\n",
            "subsample: 0.8\n",
            "colsample_bytree: 0.8\n"
          ]
        },
        {
          "name": "stderr",
          "output_type": "stream",
          "text": [
            "2025/06/13 02:05:50 WARNING mlflow.models.model: Model logged without a signature and input example. Please set `input_example` parameter when logging the model to auto infer the model signature.\n"
          ]
        },
        {
          "name": "stdout",
          "output_type": "stream",
          "text": [
            "\n",
            "Probando con:\n",
            "learning_rate: 0.01\n",
            "max_depth: 5\n",
            "n_estimators: 100\n",
            "subsample: 0.8\n",
            "colsample_bytree: 1.0\n"
          ]
        },
        {
          "name": "stderr",
          "output_type": "stream",
          "text": [
            "2025/06/13 02:05:52 WARNING mlflow.models.model: Model logged without a signature and input example. Please set `input_example` parameter when logging the model to auto infer the model signature.\n"
          ]
        },
        {
          "name": "stdout",
          "output_type": "stream",
          "text": [
            "\n",
            "Probando con:\n",
            "learning_rate: 0.01\n",
            "max_depth: 5\n",
            "n_estimators: 100\n",
            "subsample: 1.0\n",
            "colsample_bytree: 0.8\n"
          ]
        },
        {
          "name": "stderr",
          "output_type": "stream",
          "text": [
            "2025/06/13 02:05:54 WARNING mlflow.models.model: Model logged without a signature and input example. Please set `input_example` parameter when logging the model to auto infer the model signature.\n"
          ]
        },
        {
          "name": "stdout",
          "output_type": "stream",
          "text": [
            "\n",
            "Probando con:\n",
            "learning_rate: 0.01\n",
            "max_depth: 5\n",
            "n_estimators: 100\n",
            "subsample: 1.0\n",
            "colsample_bytree: 1.0\n"
          ]
        },
        {
          "name": "stderr",
          "output_type": "stream",
          "text": [
            "2025/06/13 02:05:56 WARNING mlflow.models.model: Model logged without a signature and input example. Please set `input_example` parameter when logging the model to auto infer the model signature.\n"
          ]
        },
        {
          "name": "stdout",
          "output_type": "stream",
          "text": [
            "\n",
            "Probando con:\n",
            "learning_rate: 0.01\n",
            "max_depth: 5\n",
            "n_estimators: 500\n",
            "subsample: 0.8\n",
            "colsample_bytree: 0.8\n"
          ]
        },
        {
          "name": "stderr",
          "output_type": "stream",
          "text": [
            "2025/06/13 02:05:58 WARNING mlflow.models.model: Model logged without a signature and input example. Please set `input_example` parameter when logging the model to auto infer the model signature.\n"
          ]
        },
        {
          "name": "stdout",
          "output_type": "stream",
          "text": [
            "\n",
            "Probando con:\n",
            "learning_rate: 0.01\n",
            "max_depth: 5\n",
            "n_estimators: 500\n",
            "subsample: 0.8\n",
            "colsample_bytree: 1.0\n"
          ]
        },
        {
          "name": "stderr",
          "output_type": "stream",
          "text": [
            "2025/06/13 02:06:00 WARNING mlflow.models.model: Model logged without a signature and input example. Please set `input_example` parameter when logging the model to auto infer the model signature.\n"
          ]
        },
        {
          "name": "stdout",
          "output_type": "stream",
          "text": [
            "\n",
            "Probando con:\n",
            "learning_rate: 0.01\n",
            "max_depth: 5\n",
            "n_estimators: 500\n",
            "subsample: 1.0\n",
            "colsample_bytree: 0.8\n"
          ]
        },
        {
          "name": "stderr",
          "output_type": "stream",
          "text": [
            "2025/06/13 02:06:02 WARNING mlflow.models.model: Model logged without a signature and input example. Please set `input_example` parameter when logging the model to auto infer the model signature.\n"
          ]
        },
        {
          "name": "stdout",
          "output_type": "stream",
          "text": [
            "\n",
            "Probando con:\n",
            "learning_rate: 0.01\n",
            "max_depth: 5\n",
            "n_estimators: 500\n",
            "subsample: 1.0\n",
            "colsample_bytree: 1.0\n"
          ]
        },
        {
          "name": "stderr",
          "output_type": "stream",
          "text": [
            "2025/06/13 02:06:04 WARNING mlflow.models.model: Model logged without a signature and input example. Please set `input_example` parameter when logging the model to auto infer the model signature.\n"
          ]
        },
        {
          "name": "stdout",
          "output_type": "stream",
          "text": [
            "\n",
            "Probando con:\n",
            "learning_rate: 0.01\n",
            "max_depth: 7\n",
            "n_estimators: 100\n",
            "subsample: 0.8\n",
            "colsample_bytree: 0.8\n"
          ]
        },
        {
          "name": "stderr",
          "output_type": "stream",
          "text": [
            "2025/06/13 02:06:06 WARNING mlflow.models.model: Model logged without a signature and input example. Please set `input_example` parameter when logging the model to auto infer the model signature.\n"
          ]
        },
        {
          "name": "stdout",
          "output_type": "stream",
          "text": [
            "\n",
            "Probando con:\n",
            "learning_rate: 0.01\n",
            "max_depth: 7\n",
            "n_estimators: 100\n",
            "subsample: 0.8\n",
            "colsample_bytree: 1.0\n"
          ]
        },
        {
          "name": "stderr",
          "output_type": "stream",
          "text": [
            "2025/06/13 02:06:08 WARNING mlflow.models.model: Model logged without a signature and input example. Please set `input_example` parameter when logging the model to auto infer the model signature.\n"
          ]
        },
        {
          "name": "stdout",
          "output_type": "stream",
          "text": [
            "\n",
            "Probando con:\n",
            "learning_rate: 0.01\n",
            "max_depth: 7\n",
            "n_estimators: 100\n",
            "subsample: 1.0\n",
            "colsample_bytree: 0.8\n"
          ]
        },
        {
          "name": "stderr",
          "output_type": "stream",
          "text": [
            "2025/06/13 02:06:10 WARNING mlflow.models.model: Model logged without a signature and input example. Please set `input_example` parameter when logging the model to auto infer the model signature.\n"
          ]
        },
        {
          "name": "stdout",
          "output_type": "stream",
          "text": [
            "\n",
            "Probando con:\n",
            "learning_rate: 0.01\n",
            "max_depth: 7\n",
            "n_estimators: 100\n",
            "subsample: 1.0\n",
            "colsample_bytree: 1.0\n"
          ]
        },
        {
          "name": "stderr",
          "output_type": "stream",
          "text": [
            "2025/06/13 02:06:12 WARNING mlflow.models.model: Model logged without a signature and input example. Please set `input_example` parameter when logging the model to auto infer the model signature.\n"
          ]
        },
        {
          "name": "stdout",
          "output_type": "stream",
          "text": [
            "\n",
            "Probando con:\n",
            "learning_rate: 0.01\n",
            "max_depth: 7\n",
            "n_estimators: 500\n",
            "subsample: 0.8\n",
            "colsample_bytree: 0.8\n"
          ]
        },
        {
          "name": "stderr",
          "output_type": "stream",
          "text": [
            "2025/06/13 02:06:14 WARNING mlflow.models.model: Model logged without a signature and input example. Please set `input_example` parameter when logging the model to auto infer the model signature.\n"
          ]
        },
        {
          "name": "stdout",
          "output_type": "stream",
          "text": [
            "\n",
            "Probando con:\n",
            "learning_rate: 0.01\n",
            "max_depth: 7\n",
            "n_estimators: 500\n",
            "subsample: 0.8\n",
            "colsample_bytree: 1.0\n"
          ]
        },
        {
          "name": "stderr",
          "output_type": "stream",
          "text": [
            "2025/06/13 02:06:16 WARNING mlflow.models.model: Model logged without a signature and input example. Please set `input_example` parameter when logging the model to auto infer the model signature.\n"
          ]
        },
        {
          "name": "stdout",
          "output_type": "stream",
          "text": [
            "\n",
            "Probando con:\n",
            "learning_rate: 0.01\n",
            "max_depth: 7\n",
            "n_estimators: 500\n",
            "subsample: 1.0\n",
            "colsample_bytree: 0.8\n"
          ]
        },
        {
          "name": "stderr",
          "output_type": "stream",
          "text": [
            "2025/06/13 02:06:18 WARNING mlflow.models.model: Model logged without a signature and input example. Please set `input_example` parameter when logging the model to auto infer the model signature.\n"
          ]
        },
        {
          "name": "stdout",
          "output_type": "stream",
          "text": [
            "\n",
            "Probando con:\n",
            "learning_rate: 0.01\n",
            "max_depth: 7\n",
            "n_estimators: 500\n",
            "subsample: 1.0\n",
            "colsample_bytree: 1.0\n"
          ]
        },
        {
          "name": "stderr",
          "output_type": "stream",
          "text": [
            "2025/06/13 02:06:20 WARNING mlflow.models.model: Model logged without a signature and input example. Please set `input_example` parameter when logging the model to auto infer the model signature.\n"
          ]
        },
        {
          "name": "stdout",
          "output_type": "stream",
          "text": [
            "\n",
            "Probando con:\n",
            "learning_rate: 0.1\n",
            "max_depth: 3\n",
            "n_estimators: 100\n",
            "subsample: 0.8\n",
            "colsample_bytree: 0.8\n"
          ]
        },
        {
          "name": "stderr",
          "output_type": "stream",
          "text": [
            "2025/06/13 02:06:22 WARNING mlflow.models.model: Model logged without a signature and input example. Please set `input_example` parameter when logging the model to auto infer the model signature.\n"
          ]
        },
        {
          "name": "stdout",
          "output_type": "stream",
          "text": [
            "\n",
            "Probando con:\n",
            "learning_rate: 0.1\n",
            "max_depth: 3\n",
            "n_estimators: 100\n",
            "subsample: 0.8\n",
            "colsample_bytree: 1.0\n"
          ]
        },
        {
          "name": "stderr",
          "output_type": "stream",
          "text": [
            "2025/06/13 02:06:24 WARNING mlflow.models.model: Model logged without a signature and input example. Please set `input_example` parameter when logging the model to auto infer the model signature.\n"
          ]
        },
        {
          "name": "stdout",
          "output_type": "stream",
          "text": [
            "\n",
            "Probando con:\n",
            "learning_rate: 0.1\n",
            "max_depth: 3\n",
            "n_estimators: 100\n",
            "subsample: 1.0\n",
            "colsample_bytree: 0.8\n"
          ]
        },
        {
          "name": "stderr",
          "output_type": "stream",
          "text": [
            "2025/06/13 02:06:26 WARNING mlflow.models.model: Model logged without a signature and input example. Please set `input_example` parameter when logging the model to auto infer the model signature.\n"
          ]
        },
        {
          "name": "stdout",
          "output_type": "stream",
          "text": [
            "\n",
            "Probando con:\n",
            "learning_rate: 0.1\n",
            "max_depth: 3\n",
            "n_estimators: 100\n",
            "subsample: 1.0\n",
            "colsample_bytree: 1.0\n"
          ]
        },
        {
          "name": "stderr",
          "output_type": "stream",
          "text": [
            "2025/06/13 02:06:28 WARNING mlflow.models.model: Model logged without a signature and input example. Please set `input_example` parameter when logging the model to auto infer the model signature.\n"
          ]
        },
        {
          "name": "stdout",
          "output_type": "stream",
          "text": [
            "\n",
            "Probando con:\n",
            "learning_rate: 0.1\n",
            "max_depth: 3\n",
            "n_estimators: 500\n",
            "subsample: 0.8\n",
            "colsample_bytree: 0.8\n"
          ]
        },
        {
          "name": "stderr",
          "output_type": "stream",
          "text": [
            "2025/06/13 02:06:30 WARNING mlflow.models.model: Model logged without a signature and input example. Please set `input_example` parameter when logging the model to auto infer the model signature.\n"
          ]
        },
        {
          "name": "stdout",
          "output_type": "stream",
          "text": [
            "\n",
            "Probando con:\n",
            "learning_rate: 0.1\n",
            "max_depth: 3\n",
            "n_estimators: 500\n",
            "subsample: 0.8\n",
            "colsample_bytree: 1.0\n"
          ]
        },
        {
          "name": "stderr",
          "output_type": "stream",
          "text": [
            "2025/06/13 02:06:32 WARNING mlflow.models.model: Model logged without a signature and input example. Please set `input_example` parameter when logging the model to auto infer the model signature.\n"
          ]
        },
        {
          "name": "stdout",
          "output_type": "stream",
          "text": [
            "\n",
            "Probando con:\n",
            "learning_rate: 0.1\n",
            "max_depth: 3\n",
            "n_estimators: 500\n",
            "subsample: 1.0\n",
            "colsample_bytree: 0.8\n"
          ]
        },
        {
          "name": "stderr",
          "output_type": "stream",
          "text": [
            "2025/06/13 02:06:34 WARNING mlflow.models.model: Model logged without a signature and input example. Please set `input_example` parameter when logging the model to auto infer the model signature.\n"
          ]
        },
        {
          "name": "stdout",
          "output_type": "stream",
          "text": [
            "\n",
            "Probando con:\n",
            "learning_rate: 0.1\n",
            "max_depth: 3\n",
            "n_estimators: 500\n",
            "subsample: 1.0\n",
            "colsample_bytree: 1.0\n"
          ]
        },
        {
          "name": "stderr",
          "output_type": "stream",
          "text": [
            "2025/06/13 02:06:36 WARNING mlflow.models.model: Model logged without a signature and input example. Please set `input_example` parameter when logging the model to auto infer the model signature.\n"
          ]
        },
        {
          "name": "stdout",
          "output_type": "stream",
          "text": [
            "\n",
            "Probando con:\n",
            "learning_rate: 0.1\n",
            "max_depth: 5\n",
            "n_estimators: 100\n",
            "subsample: 0.8\n",
            "colsample_bytree: 0.8\n"
          ]
        },
        {
          "name": "stderr",
          "output_type": "stream",
          "text": [
            "2025/06/13 02:06:38 WARNING mlflow.models.model: Model logged without a signature and input example. Please set `input_example` parameter when logging the model to auto infer the model signature.\n"
          ]
        },
        {
          "name": "stdout",
          "output_type": "stream",
          "text": [
            "\n",
            "Probando con:\n",
            "learning_rate: 0.1\n",
            "max_depth: 5\n",
            "n_estimators: 100\n",
            "subsample: 0.8\n",
            "colsample_bytree: 1.0\n"
          ]
        },
        {
          "name": "stderr",
          "output_type": "stream",
          "text": [
            "2025/06/13 02:06:40 WARNING mlflow.models.model: Model logged without a signature and input example. Please set `input_example` parameter when logging the model to auto infer the model signature.\n"
          ]
        },
        {
          "name": "stdout",
          "output_type": "stream",
          "text": [
            "\n",
            "Probando con:\n",
            "learning_rate: 0.1\n",
            "max_depth: 5\n",
            "n_estimators: 100\n",
            "subsample: 1.0\n",
            "colsample_bytree: 0.8\n"
          ]
        },
        {
          "name": "stderr",
          "output_type": "stream",
          "text": [
            "2025/06/13 02:06:42 WARNING mlflow.models.model: Model logged without a signature and input example. Please set `input_example` parameter when logging the model to auto infer the model signature.\n"
          ]
        },
        {
          "name": "stdout",
          "output_type": "stream",
          "text": [
            "\n",
            "Probando con:\n",
            "learning_rate: 0.1\n",
            "max_depth: 5\n",
            "n_estimators: 100\n",
            "subsample: 1.0\n",
            "colsample_bytree: 1.0\n"
          ]
        },
        {
          "name": "stderr",
          "output_type": "stream",
          "text": [
            "2025/06/13 02:06:44 WARNING mlflow.models.model: Model logged without a signature and input example. Please set `input_example` parameter when logging the model to auto infer the model signature.\n"
          ]
        },
        {
          "name": "stdout",
          "output_type": "stream",
          "text": [
            "\n",
            "Probando con:\n",
            "learning_rate: 0.1\n",
            "max_depth: 5\n",
            "n_estimators: 500\n",
            "subsample: 0.8\n",
            "colsample_bytree: 0.8\n"
          ]
        },
        {
          "name": "stderr",
          "output_type": "stream",
          "text": [
            "2025/06/13 02:06:46 WARNING mlflow.models.model: Model logged without a signature and input example. Please set `input_example` parameter when logging the model to auto infer the model signature.\n"
          ]
        },
        {
          "name": "stdout",
          "output_type": "stream",
          "text": [
            "\n",
            "Probando con:\n",
            "learning_rate: 0.1\n",
            "max_depth: 5\n",
            "n_estimators: 500\n",
            "subsample: 0.8\n",
            "colsample_bytree: 1.0\n"
          ]
        },
        {
          "name": "stderr",
          "output_type": "stream",
          "text": [
            "2025/06/13 02:06:48 WARNING mlflow.models.model: Model logged without a signature and input example. Please set `input_example` parameter when logging the model to auto infer the model signature.\n"
          ]
        },
        {
          "name": "stdout",
          "output_type": "stream",
          "text": [
            "\n",
            "Probando con:\n",
            "learning_rate: 0.1\n",
            "max_depth: 5\n",
            "n_estimators: 500\n",
            "subsample: 1.0\n",
            "colsample_bytree: 0.8\n"
          ]
        },
        {
          "name": "stderr",
          "output_type": "stream",
          "text": [
            "2025/06/13 02:06:50 WARNING mlflow.models.model: Model logged without a signature and input example. Please set `input_example` parameter when logging the model to auto infer the model signature.\n"
          ]
        },
        {
          "name": "stdout",
          "output_type": "stream",
          "text": [
            "\n",
            "Probando con:\n",
            "learning_rate: 0.1\n",
            "max_depth: 5\n",
            "n_estimators: 500\n",
            "subsample: 1.0\n",
            "colsample_bytree: 1.0\n"
          ]
        },
        {
          "name": "stderr",
          "output_type": "stream",
          "text": [
            "2025/06/13 02:06:52 WARNING mlflow.models.model: Model logged without a signature and input example. Please set `input_example` parameter when logging the model to auto infer the model signature.\n"
          ]
        },
        {
          "name": "stdout",
          "output_type": "stream",
          "text": [
            "\n",
            "Probando con:\n",
            "learning_rate: 0.1\n",
            "max_depth: 7\n",
            "n_estimators: 100\n",
            "subsample: 0.8\n",
            "colsample_bytree: 0.8\n"
          ]
        },
        {
          "name": "stderr",
          "output_type": "stream",
          "text": [
            "2025/06/13 02:06:54 WARNING mlflow.models.model: Model logged without a signature and input example. Please set `input_example` parameter when logging the model to auto infer the model signature.\n"
          ]
        },
        {
          "name": "stdout",
          "output_type": "stream",
          "text": [
            "\n",
            "Probando con:\n",
            "learning_rate: 0.1\n",
            "max_depth: 7\n",
            "n_estimators: 100\n",
            "subsample: 0.8\n",
            "colsample_bytree: 1.0\n"
          ]
        },
        {
          "name": "stderr",
          "output_type": "stream",
          "text": [
            "2025/06/13 02:06:56 WARNING mlflow.models.model: Model logged without a signature and input example. Please set `input_example` parameter when logging the model to auto infer the model signature.\n"
          ]
        },
        {
          "name": "stdout",
          "output_type": "stream",
          "text": [
            "\n",
            "Probando con:\n",
            "learning_rate: 0.1\n",
            "max_depth: 7\n",
            "n_estimators: 100\n",
            "subsample: 1.0\n",
            "colsample_bytree: 0.8\n"
          ]
        },
        {
          "name": "stderr",
          "output_type": "stream",
          "text": [
            "2025/06/13 02:06:58 WARNING mlflow.models.model: Model logged without a signature and input example. Please set `input_example` parameter when logging the model to auto infer the model signature.\n"
          ]
        },
        {
          "name": "stdout",
          "output_type": "stream",
          "text": [
            "\n",
            "Probando con:\n",
            "learning_rate: 0.1\n",
            "max_depth: 7\n",
            "n_estimators: 100\n",
            "subsample: 1.0\n",
            "colsample_bytree: 1.0\n"
          ]
        },
        {
          "name": "stderr",
          "output_type": "stream",
          "text": [
            "2025/06/13 02:06:59 WARNING mlflow.models.model: Model logged without a signature and input example. Please set `input_example` parameter when logging the model to auto infer the model signature.\n"
          ]
        },
        {
          "name": "stdout",
          "output_type": "stream",
          "text": [
            "\n",
            "Probando con:\n",
            "learning_rate: 0.1\n",
            "max_depth: 7\n",
            "n_estimators: 500\n",
            "subsample: 0.8\n",
            "colsample_bytree: 0.8\n"
          ]
        },
        {
          "name": "stderr",
          "output_type": "stream",
          "text": [
            "2025/06/13 02:07:02 WARNING mlflow.models.model: Model logged without a signature and input example. Please set `input_example` parameter when logging the model to auto infer the model signature.\n"
          ]
        },
        {
          "name": "stdout",
          "output_type": "stream",
          "text": [
            "\n",
            "Probando con:\n",
            "learning_rate: 0.1\n",
            "max_depth: 7\n",
            "n_estimators: 500\n",
            "subsample: 0.8\n",
            "colsample_bytree: 1.0\n"
          ]
        },
        {
          "name": "stderr",
          "output_type": "stream",
          "text": [
            "2025/06/13 02:07:04 WARNING mlflow.models.model: Model logged without a signature and input example. Please set `input_example` parameter when logging the model to auto infer the model signature.\n"
          ]
        },
        {
          "name": "stdout",
          "output_type": "stream",
          "text": [
            "\n",
            "Probando con:\n",
            "learning_rate: 0.1\n",
            "max_depth: 7\n",
            "n_estimators: 500\n",
            "subsample: 1.0\n",
            "colsample_bytree: 0.8\n"
          ]
        },
        {
          "name": "stderr",
          "output_type": "stream",
          "text": [
            "2025/06/13 02:07:06 WARNING mlflow.models.model: Model logged without a signature and input example. Please set `input_example` parameter when logging the model to auto infer the model signature.\n"
          ]
        },
        {
          "name": "stdout",
          "output_type": "stream",
          "text": [
            "\n",
            "Probando con:\n",
            "learning_rate: 0.1\n",
            "max_depth: 7\n",
            "n_estimators: 500\n",
            "subsample: 1.0\n",
            "colsample_bytree: 1.0\n"
          ]
        },
        {
          "name": "stderr",
          "output_type": "stream",
          "text": [
            "2025/06/13 02:07:08 WARNING mlflow.models.model: Model logged without a signature and input example. Please set `input_example` parameter when logging the model to auto infer the model signature.\n"
          ]
        }
      ],
      "source": [
        "# Parámetros para probar\n",
        "learning_rates = [0.01, 0.1]\n",
        "max_depths = [3, 5, 7]\n",
        "n_estimators_list = [100, 500]\n",
        "subsamples = [0.8, 1.0]\n",
        "colsample_bytrees = [0.8, 1.0]\n",
        "\n",
        "# Bucle de pruebas\n",
        "for lr in learning_rates:\n",
        "    for md in max_depths:\n",
        "        for ne in n_estimators_list:\n",
        "            for ss in subsamples:\n",
        "                for cb in colsample_bytrees:\n",
        "                    print(f\"\\nProbando con:\")\n",
        "                    print(f\"learning_rate: {lr}\")\n",
        "                    print(f\"max_depth: {md}\")\n",
        "                    print(f\"n_estimators: {ne}\")\n",
        "                    print(f\"subsample: {ss}\")\n",
        "                    print(f\"colsample_bytree: {cb}\")\n",
        "                    \n",
        "                    xgbRun(lr, md, ne, ss, cb)\n"
      ]
    },
    {
      "cell_type": "markdown",
      "metadata": {},
      "source": [
        "### Ahora vemos el registro de XGB \n",
        "\n",
        "![image](./images/XGBList.png)\n",
        "\n",
        "Reviso el mejor, no tan bueno como esperaba\n",
        "\n",
        "![image](./images/XGB_best.png)"
      ]
    },
    {
      "cell_type": "code",
      "execution_count": 50,
      "metadata": {},
      "outputs": [
        {
          "name": "stderr",
          "output_type": "stream",
          "text": [
            "2025/06/13 02:14:52 WARNING mlflow.models.model: Model logged without a signature and input example. Please set `input_example` parameter when logging the model to auto infer the model signature.\n",
            "Registered model 'diabetes-predictor-xgb-IA3' already exists. Creating a new version of this model...\n",
            "Created version '1' of model 'diabetes-predictor-xgb-IA3'.\n"
          ]
        }
      ],
      "source": [
        "\n",
        "# Guardar el mejor modelo\n",
        "xgbRun(0.01, 3, 500, 0.8, 0.8, saveModel=True)"
      ]
    },
    {
      "cell_type": "markdown",
      "metadata": {},
      "source": [
        "### Revisamos y probamos\n",
        "\n",
        "![image](./images/XGBModelo.png)"
      ]
    },
    {
      "cell_type": "code",
      "execution_count": 51,
      "metadata": {},
      "outputs": [
        {
          "data": {
            "text/plain": [
              "array([ 81.68191 , 153.10175 , 145.70717 , 179.76581 , 169.46591 ,\n",
              "       153.81657 , 194.17865 , 131.07669 , 126.514786, 147.14337 ,\n",
              "       212.453   , 165.44662 ,  95.56344 , 176.10126 ,  84.02394 ,\n",
              "       110.32637 , 130.31895 , 136.70865 , 204.24959 ,  76.10729 ,\n",
              "       110.69276 , 108.823975, 121.23394 , 213.67955 ,  99.87983 ,\n",
              "        98.81055 , 161.90404 , 183.59686 , 226.64207 , 115.33466 ,\n",
              "       158.81593 , 129.952   , 107.13852 , 164.60857 , 257.63947 ,\n",
              "       174.47183 , 203.14844 , 102.35734 , 144.31227 , 183.51051 ,\n",
              "       222.95973 , 129.20844 , 217.67336 ,  91.920944, 166.93617 ,\n",
              "        72.86546 , 167.83296 , 231.15385 , 110.01879 , 124.118744,\n",
              "       105.99609 , 137.05058 , 225.93893 , 154.99684 , 225.01228 ,\n",
              "       222.97531 , 222.34438 , 127.79173 , 267.27652 ,  84.45804 ,\n",
              "        92.8449  , 277.31607 , 124.52757 , 161.8739  , 152.35814 ,\n",
              "       139.24065 , 197.51326 , 249.93526 ,  85.01098 , 135.07584 ,\n",
              "       102.91612 , 175.40257 , 257.05032 , 105.118576,  87.02997 ,\n",
              "       180.2401  , 185.31642 , 186.6466  , 183.15753 , 103.66285 ,\n",
              "       143.76135 , 256.42484 , 244.1279  ,  92.896935, 103.371704,\n",
              "       164.54076 , 293.3165  , 210.77386 , 185.0456  , 174.8371  ,\n",
              "       137.95032 , 194.57864 ,  89.24039 , 192.38039 , 163.71623 ,\n",
              "       127.29638 , 153.57396 , 188.71396 ,  96.99721 , 181.88284 ,\n",
              "        71.42619 , 190.29852 , 112.760475, 138.7531  , 103.91762 ,\n",
              "       128.84666 ,  95.58144 , 196.68686 ,  78.48159 ,  83.57095 ,\n",
              "        90.37126 ], dtype=float32)"
            ]
          },
          "execution_count": 51,
          "metadata": {},
          "output_type": "execute_result"
        }
      ],
      "source": [
        "# Cargar el modelo de producción\n",
        "model = mlflow.pyfunc.load_model(f\"models:/diabetes-predictor-xgb-IA3/Production\")\n",
        "\n",
        "model.predict(X_test)"
      ]
    }
  ],
  "metadata": {
    "colab": {
      "provenance": []
    },
    "kernelspec": {
      "display_name": "Python 3",
      "language": "python",
      "name": "python3"
    },
    "language_info": {
      "codemirror_mode": {
        "name": "ipython",
        "version": 3
      },
      "file_extension": ".py",
      "mimetype": "text/x-python",
      "name": "python",
      "nbconvert_exporter": "python",
      "pygments_lexer": "ipython3",
      "version": "3.13.3"
    },
    "name": "sklearn-test",
    "notebookId": 3177477930627754
  },
  "nbformat": 4,
  "nbformat_minor": 0
}
